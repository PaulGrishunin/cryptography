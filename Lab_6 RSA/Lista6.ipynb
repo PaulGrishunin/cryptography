{
 "cells": [
  {
   "cell_type": "code",
   "execution_count": 1,
   "metadata": {},
   "outputs": [],
   "source": [
    "import numpy as np\n",
    "import time\n",
    "import matplotlib.pyplot as plt\n",
    "import random"
   ]
  },
  {
   "cell_type": "markdown",
   "metadata": {},
   "source": [
    "# Lista 6 (9 pkt.) Termin: 7.01.2021r."
   ]
  },
  {
   "cell_type": "markdown",
   "metadata": {},
   "source": [
    "## Zadanie 1 (1 pkt.)"
   ]
  },
  {
   "cell_type": "markdown",
   "metadata": {},
   "source": [
    "Korzystając z funkcji:"
   ]
  },
  {
   "cell_type": "code",
   "execution_count": 2,
   "metadata": {},
   "outputs": [
    {
     "data": {
      "text/plain": [
       "1610220054.63524"
      ]
     },
     "execution_count": 2,
     "metadata": {},
     "output_type": "execute_result"
    }
   ],
   "source": [
    "time.time()"
   ]
  },
  {
   "cell_type": "markdown",
   "metadata": {},
   "source": [
    "zwracającej aktualny czas dokonaj pomiaru czasu wykonania potęgowania modulo. Tzn. weź np. wyrażenie:\n",
    "$$2^{10^n}\\mod3$$ i zmierz czas wykonania dla $n\\in[1,9]$, dla każdego $n$ pomiar powtórz 10 razy i uśrednij wyniki, a następnie przedstaw je na wykresie, ze skalą logarytmiczną, przykład rysowania wykresu za pomocą plt (matplotlib.pyplot)."
   ]
  },
  {
   "cell_type": "code",
   "execution_count": 20,
   "metadata": {},
   "outputs": [
    {
     "name": "stdout",
     "output_type": "stream",
     "text": [
      "n= 1\n",
      "sred= 4.410743713378906e-06\n",
      "n= 2\n",
      "sred= 6.628036499023438e-06\n",
      "n= 3\n",
      "sred= 8.702278137207031e-06\n",
      "n= 4\n",
      "sred= 1.1157989501953124e-05\n",
      "n= 5\n",
      "sred= 2.4938583374023436e-05\n",
      "n= 6\n",
      "sred= 2.2292137145996094e-05\n",
      "n= 7\n",
      "sred= 2.2292137145996094e-05\n",
      "n= 8\n",
      "sred= 2.562999725341797e-05\n",
      "n= 9\n",
      "sred= 2.872943878173828e-05\n",
      "n= 10\n",
      "sred= 3.1161308288574216e-05\n"
     ]
    },
    {
     "data": {
      "text/plain": [
       "[<matplotlib.lines.Line2D at 0x7f300d4cbdf0>]"
      ]
     },
     "execution_count": 20,
     "metadata": {},
     "output_type": "execute_result"
    },
    {
     "data": {
      "image/png": "[encoded data removed]",
      "text/plain": [
       "<Figure size 432x288 with 1 Axes>"
      ]
     },
     "metadata": {
      "needs_background": "light"
     },
     "output_type": "display_data"
    }
   ],
   "source": [
    "def pow_mod(x,n,m):\n",
    "    p = 1\n",
    "    while n:\n",
    "        if n & 1:\n",
    "            p = p * x % m\n",
    "        n >>= 1\n",
    "        x = x * x % m\n",
    "    \n",
    "    return p\n",
    "tim = []\n",
    "for n in range(1,11): \n",
    "    print(\"n=\", n)\n",
    "    t=[]\n",
    "    for r in range(10):\n",
    "        start = time.time()\n",
    "        p = pow_mod(2, 10**n, 3 )\n",
    "        t.append(time.time() - start)\n",
    "#     print(t)\n",
    "    sred = sum(t) / len(t)\n",
    "    print(\"sred=\", sred)\n",
    "    tim.append(sred)\n",
    "# print(\"tim=\", tim)\n",
    "\n",
    "plt.yscale('log')\n",
    "plt.plot(tim,'o')\n",
    "\n",
    "# y=[1.21593475e-06, 1.09672546e-06, 2.09808350e-06, 3.07559967e-06,\n",
    "#        2.27212906e-05, 2.74515152e-04, 3.51948738e-03, 3.21102858e-02,\n",
    "#        4.03478789e-01]\n",
    "# plt.yscale('log')#ustawia logarytmiczną skalę na osi y\n",
    "# plt.plot(y,'o')#rysuje dane z tablicy y za pomocą punktów"
   ]
  },
  {
   "cell_type": "markdown",
   "metadata": {},
   "source": [
    "## Zadanie 2 (2 pkt.)"
   ]
  },
  {
   "cell_type": "markdown",
   "metadata": {},
   "source": [
    "Zaimplemetuj szybkie potęgowanie. Napisz funkcję $\\textit{pow_mod(x,n,m)}$, która oblicza:\n",
    "$$x^n\\mod m$$.\n",
    "\n",
    "1. Niech $p=1$.\n",
    "2. Iteruj po bitach reprezentujących $n$.\n",
    "3. Przy każdej iteracji zastąp $p$ kwadratem, $p=p^2\\%m$.\n",
    "4. W iteracjach, w ktorych bit jest jednyką, domnóż $x$ do $p$, $p=p*x\\%m$.\n",
    "5. Na końcu $p$ będzie wynikiem $p=x^n\\%m$"
   ]
  },
  {
   "cell_type": "code",
   "execution_count": 4,
   "metadata": {},
   "outputs": [],
   "source": [
    "def pow_mod(x,n,m):\n",
    "    p = 1\n",
    "    while n:\n",
    "        if n & 1:\n",
    "            p = p * x % m\n",
    "        n >>= 1\n",
    "        x = x * x % m\n",
    "    return p"
   ]
  },
  {
   "cell_type": "code",
   "execution_count": 5,
   "metadata": {},
   "outputs": [
    {
     "name": "stdout",
     "output_type": "stream",
     "text": [
      "True\n",
      "True\n",
      "True\n",
      "True\n"
     ]
    }
   ],
   "source": [
    "print(pow_mod(7,3,2)==1)\n",
    "print(pow_mod(2,1024,7)==2)\n",
    "print(pow_mod(3,10**100,7)==4)\n",
    "print(pow_mod(3**99,10**100,7)==1)"
   ]
  },
  {
   "cell_type": "markdown",
   "metadata": {},
   "source": [
    "## Zadanie 3 (1 pkt.)"
   ]
  },
  {
   "cell_type": "markdown",
   "metadata": {},
   "source": [
    "Dokonaj pomiaru czasu wykonania funkcji z zad. 2 za pomocą tego samego wyrażenia co w zadaniu 1. Narysuj na jednym wykresie czasy wykonania zależne od n dla metody standardowej (zad.1) i metody z zad.2."
   ]
  },
  {
   "cell_type": "markdown",
   "metadata": {},
   "source": [
    "## Zadanie 4 (1 pkt.)"
   ]
  },
  {
   "cell_type": "markdown",
   "metadata": {},
   "source": [
    "Napisz funkcję znajdującą dla danej liczby $d$ i $n$ taką liczbe $e$, że:\n",
    "$$d\\cdot e=1\\mod n$$\n",
    "czyli inaczej mówiąc odwotność $d$ w ciele $Z_n$. Użyj Rozszerzonego Algorytmu Euklidesa."
   ]
  },
  {
   "cell_type": "code",
   "execution_count": 6,
   "metadata": {},
   "outputs": [],
   "source": [
    "def egcd(a, b):\n",
    "    if a == 0:\n",
    "        return (b, 0, 1)\n",
    "    else:\n",
    "        g, y, x = egcd(b % a, a)\n",
    "        return (g, x - (b // a) * y, y)\n",
    "    \n",
    "    \n",
    "\n",
    "def inv(p,n):\n",
    "    g, x, y = egcd(p, n)\n",
    "    if g != 1:\n",
    "        raise Exception('odwrotność modularna nie istnieje')\n",
    "    else:\n",
    "        return x % n"
   ]
  },
  {
   "cell_type": "code",
   "execution_count": 7,
   "metadata": {},
   "outputs": [
    {
     "name": "stdout",
     "output_type": "stream",
     "text": [
      "True\n",
      "True\n",
      "True\n",
      "True\n"
     ]
    }
   ],
   "source": [
    "print(inv(5,7)==3)\n",
    "print(inv(3,2)==1)\n",
    "print(inv(5,7)==3)\n",
    "print(inv(3,11)==4)"
   ]
  },
  {
   "cell_type": "markdown",
   "metadata": {},
   "source": [
    "## Zadanie 5 (1 pkt.)"
   ]
  },
  {
   "cell_type": "markdown",
   "metadata": {},
   "source": [
    "Zaimplementuj test Fermata, który dla danej liczby $p$ sprawdza za pomocą $k$ rund czy jest pierwsza i zwraca $True$ lub $False$.\n",
    "\n",
    "Male twierdzenie Fermata mówi, że jeżeli $p$ jest liczbą pierwszą i $a$ nie jest podzielne przez $p$ to $a^{p-1}$ jest równe $1$ modulo $p$:\n",
    "\n",
    "$$p\\in\\mathbb{P}\\ \\wedge\\ p\\nmid a\\ \\Longrightarrow\\ a^{p-1}=1\\mod p$$\n",
    "\n",
    "zatem biorąc zaprzeczenie powyższej implikacji mamy:\n",
    "\n",
    "$$a^{p-1}\\neq1\\mod p\\ \\Longrightarrow\\ p\\notin\\mathbb{P}\\ \\vee\\ p\\mid a$$\n",
    "\n",
    "Tzn. jeżeli weźmiemy dowolne $a$ mniejsze od $p$ (w ten sposób wykluczamy $p\\mid a$) i równość $a^{p-1}=1\\mod p$ nie zajdzie to wiemy, że $p$ jest na pewno liczbą pierwszą, natomiast jezeli $a^{p-1}=1\\mod p$ zachodzi wtedy jest duże prawdopodobieństwo, że $p$ jest liczbą pierwszą aczkolwiek nie jest to pewne.\n",
    "\n",
    "Należy zatem wybrać liczbę $a\\in[2,p-2]$, sprawdzić czy zachodzi $a^{p-1}=1\\mod p$, jeżeli nie zachodzi to $p$ jest złożone a jesli zachodzi należy wziąć inne $a$ i ponownie sprawdzić, parametr $k$ określa ile razy $a$ bierzemy. Jeżeli po $k$ powtórzeniach za każdym razem równość zachodzi, możemy przyjąć, że $p$ jest pierwsze."
   ]
  },
  {
   "cell_type": "code",
   "execution_count": 8,
   "metadata": {},
   "outputs": [],
   "source": [
    "def Fermat_test(p,k):\n",
    "    for i in range(k):\n",
    "\n",
    "        rnd = random.randint(1, p - 1)\n",
    "\n",
    "        if (rnd ** (p - 1) % p != 1):\n",
    "            return False\n",
    "\n",
    "    return True"
   ]
  },
  {
   "cell_type": "code",
   "execution_count": 9,
   "metadata": {},
   "outputs": [
    {
     "name": "stdout",
     "output_type": "stream",
     "text": [
      "True\n",
      "True\n",
      "True\n",
      "True\n"
     ]
    }
   ],
   "source": [
    "print(Fermat_test(71,10)==True)\n",
    "print(Fermat_test(41,10)==True)\n",
    "print(Fermat_test(62,10)==False)\n",
    "print(Fermat_test(84,10)==False)"
   ]
  },
  {
   "cell_type": "markdown",
   "metadata": {},
   "source": [
    "Zaimplementuj funkcję $\\textit{gen_p(a,b)}$, która zwraca losową liczbę pierwszą z przedziału $a$ i $b$, tzn. losuje liczby z tego przedziału i sprawdza czy są pierwsze testem Fermata tak długo aż znajdzie liczbę pierwszą."
   ]
  },
  {
   "cell_type": "code",
   "execution_count": 10,
   "metadata": {},
   "outputs": [
    {
     "name": "stdout",
     "output_type": "stream",
     "text": [
      "193\n"
     ]
    }
   ],
   "source": [
    "def gen_p(a,b):\n",
    "    n = random.randint(a, b)\n",
    "#     print(\"n1=\", n)\n",
    "    while (Fermat_test(n, 10)==False):\n",
    "        n = random.randint(a, b)\n",
    "        print(\"n=\", n)\n",
    "    return n            \n",
    "print(gen_p(100,200) )"
   ]
  },
  {
   "cell_type": "markdown",
   "metadata": {},
   "source": [
    "## Zadanie 6 (2 pkt.)"
   ]
  },
  {
   "cell_type": "markdown",
   "metadata": {},
   "source": [
    "Zaimplementuj generację kluczy w ramach algorytmu RSA, napisz funkcję $\\textit{key_gen(p,q)}$, która dla podanych dużych liczb pierwszych $p$ i $q$ zwraca parę kluczy w postaci krotki $(n,e,d)$.\n",
    "\n",
    "1. Obliczamy iloczyn $n=pq$\n",
    "2. Następnie funkcję Eulera $\\phi(n)=(q-1)(p-1)$\n",
    "3. Klucz publiczny to para $(e,n)$ gdzie $e$ to liczba ze zbioru $\\{1,2,..,\\phi(n)-1\\}$ taka, że $NWD(e,\\phi(n))=1$, może być ona ustalona np. jako $e=2^{2^4}+1=65537$, w teście użyto właśnie tej liczby.\n",
    "4. Klucz prywatny to para $(d,n)$, gdzie $d$ to liczba taka, że $de=1\\ mod\\ \\phi(n)$, czyli $d$ jest odwrotnością $e$ w ciele $\\mathbb{Z}_{\\phi(n)}$."
   ]
  },
  {
   "cell_type": "code",
   "execution_count": 11,
   "metadata": {},
   "outputs": [],
   "source": [
    "def gcd(a, b): \n",
    "    while b != 0: \n",
    "        a, b = b, a % b \n",
    "    return a\n",
    "\n",
    "\n",
    "\n",
    "def key_gen(p,q): \n",
    "    n =p*q\n",
    "    phi = (p-1) * (q-1)\n",
    "    \n",
    "    e = random.randint(1, phi)\n",
    "#     print(\"e1=\", e)\n",
    " \n",
    "    while (gcd(e, phi) != 1):\n",
    "        \n",
    "        e = random.randint(1, phi)\n",
    "#         print(\"e2=\", e)\n",
    "#         print('gcd=', gcd(e, phi))\n",
    "\n",
    "    e = 65537\n",
    "    d = inv(e, phi)\n",
    "\n",
    "   # return ((e, n), (d, n))\n",
    "#     print(\"n=\", n)\n",
    "#     print(\"e=\", e)\n",
    "#     print(\"d=\", d)\n",
    "        \n",
    "    return n, e, d\n",
    "    "
   ]
  },
  {
   "cell_type": "code",
   "execution_count": 12,
   "metadata": {},
   "outputs": [],
   "source": [
    "p=24130780476900131841553779066939443255102203937160657723394451174808141403858935238883126295228560935516885174421847238379397184900972008801015315248328437"
   ]
  },
  {
   "cell_type": "code",
   "execution_count": 13,
   "metadata": {},
   "outputs": [],
   "source": [
    "q=26660613491521684005574100352062919789979599401844483402246984186988668019447679726081352452799126206997555710356464145743285983450292024894053538317854159"
   ]
  },
  {
   "cell_type": "code",
   "execution_count": 14,
   "metadata": {},
   "outputs": [
    {
     "name": "stdout",
     "output_type": "stream",
     "text": [
      "True\n"
     ]
    }
   ],
   "source": [
    "print(key_gen(p,q)==(\n",
    "    643341411543391711051425916925550311012265711300705520200325675109446836493100912341600261266222036750541155307483726185012838542757173209246878527615686866322037404779287199511097525538499079836420404197380885254900993985365780000028685663116338197119892656788379026665075201747282243427197060237417498419483,\n",
    "    65537,\n",
    "    334692241429603741219438891581498052305769251366366399304669177607406348936208181733781847015759652456012644616150535488014598320266503205353805078033123914361616918116605669461614375732022492713408743728419283824726654095683796656269600488579712785553345684168299073769307373555258299179136288438930486131753))"
   ]
  },
  {
   "cell_type": "markdown",
   "metadata": {},
   "source": [
    "## Zadanie 7 (1 pkt.)"
   ]
  },
  {
   "cell_type": "markdown",
   "metadata": {},
   "source": [
    "Zaimplementuj funkcję $\\textit{enc(x,e,n)}$, która podaną liczbę $x$ (wiadomość) szyfruje za pomocą klucza publicznego $(e,n)$ oraz funkcję $\\textit{dec(y,d,n)}$, która podaną liczbę $y$ (szyfrogram) deszyfruje za pomocą klucza prywatnego $(d,n)$.\n",
    "\n",
    "Szyfrowanie polega na wykonaniu potęgowania modulo:\n",
    "$$y=x^e\\ mod\\ n$$\n",
    "podobnie deszyfracja\n",
    "$$x=y^d\\ mod\\ n$$"
   ]
  },
  {
   "cell_type": "code",
   "execution_count": 15,
   "metadata": {},
   "outputs": [],
   "source": [
    "def enc(x,e,n):\n",
    "    \n",
    "    return pow_mod(x, e, n)\n",
    "\n",
    "def dec(y,d,n):\n",
    "    return pow_mod(y, d, n)"
   ]
  },
  {
   "cell_type": "code",
   "execution_count": 16,
   "metadata": {},
   "outputs": [],
   "source": [
    "n=643341411543391711051425916925550311012265711300705520200325675109446836493100912341600261266222036750541155307483726185012838542757173209246878527615686866322037404779287199511097525538499079836420404197380885254900993985365780000028685663116338197119892656788379026665075201747282243427197060237417498419483\n",
    "e=208350389615113762788111263490297665109355377830736643503856528470357220208290606069461253441671763980314762012190291145414733535673548961910772961435143582756267132618995046438684186252163655289035228721360753675271711075033036291412267917936062230585687839901652792581357105686274730618278123193067279319927\n",
    "d=502029145905912565237092248595126620632487653124329465045136187249992350554283419049087834111437813928483679744364041267436534897197233494007405790027156754593648940515350675746678776751088177077690779849077150675864299782170211270887279535225267271652686426692746042361641530130191025648848746210219401813175"
   ]
  },
  {
   "cell_type": "code",
   "execution_count": 17,
   "metadata": {},
   "outputs": [
    {
     "name": "stdout",
     "output_type": "stream",
     "text": [
      "True\n",
      "True\n",
      "True\n"
     ]
    }
   ],
   "source": [
    "print(enc(17,e,n)==353230656531616665332116231509462661273082280099289165110086677972943261270362976411810450837847461343993316190457124231852161403281191913264230575248953060776390559207669288928802429515257729255854064666904850354451664771847425807841069296028397747015905377374208615536177338019721932982992946095124218548486)\n",
    "print(dec(581228535329363957060482357417595500042117791982900743030228020443422357943293873902079555506233253640573184749108783275472243891683169424548126947970217999010556081853170166407244862004725833809785262442186726634369847615830487904940967188707443976155835347542897227831115870912021598488639913865347475436893,d,n)==27)\n",
    "print(dec(enc(12,e,n),d,n)==12)"
   ]
  },
  {
   "cell_type": "code",
   "execution_count": null,
   "metadata": {},
   "outputs": [],
   "source": []
  },
  {
   "cell_type": "code",
   "execution_count": null,
   "metadata": {},
   "outputs": [],
   "source": []
  }
 ],
 "metadata": {
  "kernelspec": {
   "display_name": "Python 3",
   "language": "python",
   "name": "python3"
  },
  "language_info": {
   "codemirror_mode": {
    "name": "ipython",
    "version": 3
   },
   "file_extension": ".py",
   "mimetype": "text/x-python",
   "name": "python",
   "nbconvert_exporter": "python",
   "pygments_lexer": "ipython3",
   "version": "3.8.5"
  }
 },
 "nbformat": 4,
 "nbformat_minor": 4
}
