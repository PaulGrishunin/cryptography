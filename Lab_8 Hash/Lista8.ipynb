{
 "cells": [
  {
   "cell_type": "markdown",
   "metadata": {},
   "source": [
    "# Lista 8 (4pkt.+5pkt.) Termin: 14.01.2020r."
   ]
  },
  {
   "cell_type": "code",
   "execution_count": 1,
   "metadata": {},
   "outputs": [],
   "source": [
    "import numpy as np\n",
    "import random\n",
    "import hashlib"
   ]
  },
  {
   "cell_type": "markdown",
   "metadata": {},
   "source": [
    "## Zadanie 1 (2 pkt.)"
   ]
  },
  {
   "cell_type": "markdown",
   "metadata": {},
   "source": [
    "Alicja i Bob ustalają publicznie grupę $Z_p$ w której będą działać oraz element z tej grupy $g$."
   ]
  },
  {
   "cell_type": "code",
   "execution_count": 2,
   "metadata": {},
   "outputs": [],
   "source": [
    "g=5\n",
    "p=23"
   ]
  },
  {
   "cell_type": "markdown",
   "metadata": {},
   "source": [
    "Alicja wybiera losowy element $a$ grupy $Z_p$, taki, że $1<a<p$:"
   ]
  },
  {
   "cell_type": "code",
   "execution_count": 3,
   "metadata": {},
   "outputs": [],
   "source": [
    "a=random.randint(2, p-1)"
   ]
  },
  {
   "cell_type": "markdown",
   "metadata": {},
   "source": [
    "Następnie oblicza $A=g^a$ w grupie $Z_p$, czyli $A=g^a\\mod\\ p$:"
   ]
  },
  {
   "cell_type": "code",
   "execution_count": 4,
   "metadata": {},
   "outputs": [
    {
     "name": "stdout",
     "output_type": "stream",
     "text": [
      "A= 9\n"
     ]
    }
   ],
   "source": [
    "def pow_mod(x,n,m):\n",
    "    p = 1\n",
    "    while n:\n",
    "        if n & 1:\n",
    "            p = p * x % m\n",
    "        n >>= 1\n",
    "        x = x * x % m\n",
    "    return p\n",
    "\n",
    "A= pow_mod(g,a,p)\n",
    "print('A=', A)"
   ]
  },
  {
   "cell_type": "markdown",
   "metadata": {},
   "source": [
    "To samo robi Bob, wybiera losowy elemnt grupy $b$ i oblicza $B=g^b$:"
   ]
  },
  {
   "cell_type": "code",
   "execution_count": 5,
   "metadata": {},
   "outputs": [
    {
     "name": "stdout",
     "output_type": "stream",
     "text": [
      "B= 22\n"
     ]
    }
   ],
   "source": [
    "b=random.randint(2, p-1)\n",
    "B=pow_mod(g,b,p)\n",
    "print('B=', B)"
   ]
  },
  {
   "cell_type": "markdown",
   "metadata": {},
   "source": [
    "Elementy $a$ i $b$ są znane tylko, odpowiednio, Alicji i Bobowi, natomiast $A$ oraz $B$ są wymieniane publicznym kanałem. Bob otrzymuje $A$ i wykonuje operację $k_B=A^b$ (czyli $A^b\\mod\\ p$), z kolei Alicja otrzymuje $B$ i wykonuje operację $k_A=B^a$ (czyli $A^b\\mod\\ p$):"
   ]
  },
  {
   "cell_type": "code",
   "execution_count": 6,
   "metadata": {},
   "outputs": [
    {
     "name": "stdout",
     "output_type": "stream",
     "text": [
      "True\n"
     ]
    }
   ],
   "source": [
    "k_B=pow_mod(A,b,p)\n",
    "# print('k_B=', k_B)\n",
    "k_A=pow_mod(B,a,p)\n",
    "\n",
    "print( k_A == k_B )"
   ]
  },
  {
   "cell_type": "markdown",
   "metadata": {},
   "source": [
    "Zawuażmy, że $k_A=k_B$, wynika to z tego, że $k_A=B^a=(g^b)^a=g^{ab}$ oraz $k_B=A^b=(g^a)^b=g^{ba}$ a oczywiście $ab=ba$. Zatem Alicja i Bob dysponują tą samą liczbą, którą mogą użyć jako klucz do szyfrowania. Publicznie znane są wartości $g$, $p$, $g^a$ oraz $g^b$, jednak odzyskanie z nich $a$ i $b$ jest bardzo trudne przy odpwiednim doborze grupy $Z_p$."
   ]
  },
  {
   "cell_type": "markdown",
   "metadata": {},
   "source": [
    "## Zadanie 2 (2 pkt.)"
   ]
  },
  {
   "cell_type": "markdown",
   "metadata": {},
   "source": [
    "Wczytaj dwa obrazki: 'Campin_Boze_Narodzenie1.png' oraz 'Campin_Boze_Narodzenie2.png' jeden z nich jest zgodny z oryginałem obrazu Roberta Campin a drugi jest lekko zmodyfikowany, rozponaj prawdziwy obraz obliczając jego funkcję skrótu SHA-256 i porównując ją do skrótu podanego poniżej (w postaci szesnastkowej), który odpowiada oryginałowi:"
   ]
  },
  {
   "cell_type": "code",
   "execution_count": 7,
   "metadata": {},
   "outputs": [],
   "source": [
    "hash_original='2d08246bbb3a8f6b0c16b8d8effd2c783233a6a174496731dfff887bb41bc7e7'"
   ]
  },
  {
   "cell_type": "markdown",
   "metadata": {},
   "source": [
    "Obrazek wczytaj za pomocą:"
   ]
  },
  {
   "cell_type": "code",
   "execution_count": 8,
   "metadata": {},
   "outputs": [
    {
     "name": "stdout",
     "output_type": "stream",
     "text": [
      "obraz1 - original =  True\n",
      "obraz2 - original =  False\n"
     ]
    }
   ],
   "source": [
    "file = open('Campin_Boze_Narodzenie1.png','rb')\n",
    "obraz1=file.read()\n",
    "readable_hash1 = hashlib.sha256(obraz1).hexdigest();\n",
    "# print(\"hash1=\", readable_hash1)\n",
    "file.close()\n",
    "\n",
    "file = open('Campin_Boze_Narodzenie2.png','rb')\n",
    "obraz2=file.read()\n",
    "readable_hash2 = hashlib.sha256(obraz2).hexdigest();\n",
    "# print(\"hash2=\", readable_hash2)\n",
    "file.close()\n",
    "\n",
    "print(\"obraz1 - original = \", readable_hash1 == hash_original)\n",
    "print(\"obraz2 - original = \", readable_hash2 == hash_original)"
   ]
  },
  {
   "cell_type": "markdown",
   "metadata": {},
   "source": [
    "'rb' w powyższej funkcji oznacza, że odczytujemy binarną postać obrazu. Podobnie wczytaj drugi obraz. Do policzenia funkcji skrótu użyj biblioteki hashlib: https://docs.python.org/3/library/hashlib.html"
   ]
  },
  {
   "cell_type": "code",
   "execution_count": 9,
   "metadata": {},
   "outputs": [],
   "source": [
    "import hashlib\n"
   ]
  },
  {
   "cell_type": "markdown",
   "metadata": {},
   "source": [
    "## Zadanie 3 * (3 pkt.)"
   ]
  },
  {
   "cell_type": "markdown",
   "metadata": {},
   "source": [
    "Na poprzednich listach pojawiała się funckja przesuwająca zadany ciag bitów o daną liczbę miejsc w lewo, np.:"
   ]
  },
  {
   "cell_type": "code",
   "execution_count": 10,
   "metadata": {},
   "outputs": [],
   "source": [
    "def shift_left(tab,n):\n",
    "    return tab[n:]+tab[:n]"
   ]
  },
  {
   "cell_type": "code",
   "execution_count": 11,
   "metadata": {},
   "outputs": [
    {
     "data": {
      "text/plain": [
       "'10111'"
      ]
     },
     "execution_count": 11,
     "metadata": {},
     "output_type": "execute_result"
    }
   ],
   "source": [
    "shift_left('11101',2)"
   ]
  },
  {
   "cell_type": "markdown",
   "metadata": {},
   "source": [
    "Funkcja ta jednak działa na ciągu znaków tekstowych a nie bitach, napisz tą funkcję jeszcze raz tak aby działała na int-ach reprezentujących ciagi bitów:"
   ]
  },
  {
   "cell_type": "code",
   "execution_count": 3,
   "metadata": {},
   "outputs": [],
   "source": [
    "def dec2bin(dec_str,pad):\n",
    "    n = int(dec_str)\n",
    "    bina = ''\n",
    "    while n > 0:\n",
    "        bina = str(n%2) + bina\n",
    "        n = n//2\n",
    "    if len(bina)<pad:\n",
    "        left = pad-len(bina)\n",
    "        bina = left*\"0\" + bina\n",
    "    return bina\n",
    "\n",
    "\n",
    "def bin2dec(bin_str):\n",
    "    l = len(bin_str)\n",
    "    dec = 0 \n",
    "    for i in range(0, l):\n",
    "        dec = dec + int(bin_str[i])*(2**(l-i-1))\n",
    "    return dec\n",
    "\n",
    "\n",
    "\n",
    "def Shift_left(k,n,n_bits):\n",
    "    res = k<<n\n",
    "    print(\"res=\",res)\n",
    "    a = dec2bin(res, n_bits)\n",
    "    print(\"a=\",a)\n",
    "    if len(a) > n_bits:\n",
    "        over=len(a)-n_bits\n",
    "        c=a[over:n_bits]+a[:over]\n",
    "        return bin2dec(c)\n",
    "    return res \n"
   ]
  },
  {
   "cell_type": "markdown",
   "metadata": {},
   "source": [
    "tzn. powyższy przykład wyglądałby następująco:"
   ]
  },
  {
   "cell_type": "code",
   "execution_count": 4,
   "metadata": {},
   "outputs": [
    {
     "name": "stdout",
     "output_type": "stream",
     "text": [
      "res= 116\n",
      "a= 1110100\n",
      "True\n"
     ]
    }
   ],
   "source": [
    "print(Shift_left(29,2,5)==23)"
   ]
  },
  {
   "cell_type": "markdown",
   "metadata": {},
   "source": [
    "bo '11101'=29 oraz '10111'=23, natomiast n_bits=5, oznacza, że ciąg bitów ma dlugość 5. W implementacji użyj operatorów takich jak: <<, |, >>, & (https://www.geeksforgeeks.org/python-bitwise-operators/)"
   ]
  },
  {
   "cell_type": "markdown",
   "metadata": {},
   "source": [
    "## Zadanie 4 * (2 pkt.)"
   ]
  },
  {
   "cell_type": "markdown",
   "metadata": {},
   "source": [
    "Na wykładzie byla pokazana metoda szybszej deszfyracji w RSA (zmiejszenia wykładnika w potęgowaniu):\n",
    "$$M=(C^{d_q}+hq)\\mod n$$\n",
    "na wykładzie był podany wzór bez $\\mod n$, jednak jest ono potrzebne, n=pq, pozostale oznaczenia jak na wykładzie (notatki na Teamsach), zaimplementuj powyższy wzór."
   ]
  },
  {
   "cell_type": "code",
   "execution_count": 14,
   "metadata": {},
   "outputs": [],
   "source": [
    "p = 0x19fbd41d69aa3d86009a967db3379c63cd501f24f7\n",
    "q = 0x1b6f141f98eeb619bc0360220160a5f75ea07cdf1d\n",
    "e = 65537\n",
    "\n",
    "def egcd(a, b):\n",
    "    if a == 0:\n",
    "        return (b, 0, 1)\n",
    "    else:\n",
    "        g, y, x = egcd(b % a, a)\n",
    "        return (g, x - (b // a) * y, y)\n",
    "    \n",
    "\n",
    "def inv(p,n):\n",
    "    g, x, y = egcd(p, n)\n",
    "    if g != 1:\n",
    "        raise Exception('odwrotność modularna nie istnieje')\n",
    "    else:\n",
    "        return x % n\n",
    "\n",
    "\n",
    "    \n",
    "dp = inv(e, (p-1)) \n",
    "dq = inv(e, (q-1)) \n",
    "qinv = inv(q, p)\n",
    "\n",
    "def decrypt(c):\n",
    "    m1 = pow(c, dp, p)\n",
    "    m2 = pow(c, dq, q)\n",
    "    h = (qinv * (m1 - m2)) % p \n",
    "    m = m2 + h * q\n",
    "    return dec2bin(m, 0)\n",
    "\n"
   ]
  },
  {
   "cell_type": "code",
   "execution_count": null,
   "metadata": {},
   "outputs": [],
   "source": []
  },
  {
   "cell_type": "code",
   "execution_count": null,
   "metadata": {},
   "outputs": [],
   "source": []
  }
 ],
 "metadata": {
  "kernelspec": {
   "display_name": "Python 3",
   "language": "python",
   "name": "python3"
  },
  "language_info": {
   "codemirror_mode": {
    "name": "ipython",
    "version": 3
   },
   "file_extension": ".py",
   "mimetype": "text/x-python",
   "name": "python",
   "nbconvert_exporter": "python",
   "pygments_lexer": "ipython3",
   "version": "3.8.5"
  }
 },
 "nbformat": 4,
 "nbformat_minor": 4
}
