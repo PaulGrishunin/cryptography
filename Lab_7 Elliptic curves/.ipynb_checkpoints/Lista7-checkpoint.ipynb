{
 "cells": [
  {
   "cell_type": "code",
   "execution_count": 1,
   "metadata": {},
   "outputs": [],
   "source": [
    "import numpy as np\n",
    "import matplotlib.pyplot as plt\n",
    "plt.rcParams['figure.figsize']=(10,10)\n",
    "plt.rcParams['axes.grid']=True"
   ]
  },
  {
   "cell_type": "markdown",
   "metadata": {},
   "source": [
    "# Lista 7 (4 pkt.) Termin: 7.01.2021r."
   ]
  },
  {
   "cell_type": "markdown",
   "metadata": {},
   "source": [
    "## Zadanie 1 (1 pkt.)"
   ]
  },
  {
   "cell_type": "markdown",
   "metadata": {},
   "source": [
    "Narysuj krzywą eliptyczną określoną równaniem\n",
    "$$y^2=x^3-x+1$$\n",
    "nad ciałem $\\mathbb{R}$."
   ]
  },
  {
   "cell_type": "markdown",
   "metadata": {},
   "source": [
    "## Zadanie 2 (3 pkt.)"
   ]
  },
  {
   "cell_type": "markdown",
   "metadata": {},
   "source": [
    "Narysuj krzywą z poprzedniego zadania i zaznacz na niej punkty $P$ i $Q$ o współrzędnych:"
   ]
  },
  {
   "cell_type": "code",
   "execution_count": 2,
   "metadata": {},
   "outputs": [],
   "source": [
    "P=[-1.2625511274071601, 0.5]\n",
    "Q=[0,1]"
   ]
  },
  {
   "cell_type": "markdown",
   "metadata": {},
   "source": [
    "następnie narysuj linię przechodzącą przez te punkty. Napisz funkcję $\\textit{add_minus(P,Q)}$, która przyjmuje współrzędne punktów $P$ i $Q$ oraz zwraca wspólrzędne punktu $R$ takiego, że $P+Q+R=0$, czyli punktu na przecięciu prostej przechodzącej przez $P$ i $Q$ z krzywą.\n",
    "\n",
    "Dla krzywej eliptycznej zadanej równaniem:\n",
    "$$y^2=x^3+ax+b$$\n",
    "współrzędne punktu $R$ są zadane wzorami:\n",
    "$$x_R=s^2-x_P-x_Q$$\n",
    "$$y_R=y_P+s(x_R-x_P)$$\n",
    "gdzie\n",
    "$s=\\frac{y_P-y_Q}{x_P-x_Q}$ dla $P\\neq Q$\n",
    "\n",
    "oraz\n",
    "\n",
    "$s=\\frac{3x_P^2+a}{2y_P}$ dla $P=Q$\n",
    "\n",
    "Uwaga: w $s$ może pojawić się dzielenie przez $0$ co oznacza, że współrzędne $x_R$ i $y_R$ będą współrzędnymi punktu w nieskończoności, który  w ramach definicji jest elementem neutralnym grupy.\n",
    "\n",
    "Narysuj na poprzednim obrazku punkt $R$ i zobacz, że jest na przecięciu się prostej i krzywej.\n",
    "\n",
    "Napisz funkcję $\\textit{inv(P)}$ zwracającą współrzędne punktu będącego przeciwieństwem (elementem odwrotnym w grupie) punktu $P=(x_P,y_P)$, element przeciwny jest zdefiniowany jako:\n",
    "$$-P=(x_P,-y_P)$$.\n",
    "\n",
    "Funkcja $\\textit{add_minus(P,Q)}$ zwraca $R$ takie, że $P+Q+R=0$, czyli $R=-(P+Q)$, korzystając z $\\textit{inv}$, napisz funkcję $\\textit{add(P,Q)}$, która zwraca $P+Q$.\n",
    "\n",
    "Narysuj punkt $P+Q$ i zobacz, że jest odbiciem punktu $R=-(P+Q)$ względem osi $x$."
   ]
  },
  {
   "cell_type": "code",
   "execution_count": 3,
   "metadata": {},
   "outputs": [],
   "source": [
    "def add_minus(P,Q):\n",
    "    pass"
   ]
  },
  {
   "cell_type": "code",
   "execution_count": 4,
   "metadata": {},
   "outputs": [],
   "source": [
    "def inv(P):\n",
    "    pass"
   ]
  },
  {
   "cell_type": "code",
   "execution_count": 5,
   "metadata": {},
   "outputs": [],
   "source": [
    "def add(P,Q):\n",
    "    pass"
   ]
  },
  {
   "cell_type": "code",
   "execution_count": 6,
   "metadata": {},
   "outputs": [
    {
     "name": "stdout",
     "output_type": "stream",
     "text": [
      "False\n",
      "False\n",
      "False\n"
     ]
    }
   ],
   "source": [
    "print(add_minus(P,Q)==[1.4193857924019508, 1.5621102233368063])\n",
    "print(inv(P)==[-1.2625511274071601, -0.5])\n",
    "print(add(P,Q)==[1.4193857924019508, -1.5621102233368063])"
   ]
  }
 ],
 "metadata": {
  "kernelspec": {
   "display_name": "Python 3",
   "language": "python",
   "name": "python3"
  },
  "language_info": {
   "codemirror_mode": {
    "name": "ipython",
    "version": 3
   },
   "file_extension": ".py",
   "mimetype": "text/x-python",
   "name": "python",
   "nbconvert_exporter": "python",
   "pygments_lexer": "ipython3",
   "version": "3.8.5"
  }
 },
 "nbformat": 4,
 "nbformat_minor": 4
}
